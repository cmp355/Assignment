{
  "cells": [
    {
      "metadata": {},
      "cell_type": "markdown",
      "source": "# <span style=\"color:blue\"> B1. Import Packages <span>"
    },
    {
      "metadata": {
        "trusted": true
      },
      "cell_type": "code",
      "source": "import warnings\nwarnings.filterwarnings(\"ignore\")\n\n## Data Analysis and Manipulation Tool\nimport pandas as pd\n\n## Shows Progress of the Task\nfrom tqdm.notebook import tqdm\ntqdm.pandas()\n\n## Date and Time Manipulation Tool\nimport datetime as dt\n\n## Scientific Computing Tool\nimport numpy as np\n\n## Visualization Tool\nimport seaborn as sns",
      "execution_count": null,
      "outputs": []
    },
    {
      "metadata": {
        "trusted": true
      },
      "cell_type": "code",
      "source": "",
      "execution_count": null,
      "outputs": []
    },
    {
      "metadata": {},
      "cell_type": "markdown",
      "source": "#  <span style=\"color:blue\">B2. Import Data <span>"
    },
    {
      "metadata": {
        "trusted": true,
        "scrolled": true
      },
      "cell_type": "code",
      "source": "## Logon Data\ndf_log = pd.read_csv('./Data(Assignment).csv')",
      "execution_count": null,
      "outputs": []
    },
    {
      "metadata": {
        "trusted": true
      },
      "cell_type": "code",
      "source": "df_log.head(5)",
      "execution_count": null,
      "outputs": []
    },
    {
      "metadata": {
        "trusted": true
      },
      "cell_type": "code",
      "source": "df_log.dtypes",
      "execution_count": null,
      "outputs": []
    },
    {
      "metadata": {
        "trusted": true
      },
      "cell_type": "code",
      "source": "",
      "execution_count": null,
      "outputs": []
    },
    {
      "metadata": {},
      "cell_type": "markdown",
      "source": "# <span style=\"color:blue\">B3. Preprocessing</span>"
    },
    {
      "metadata": {
        "trusted": true
      },
      "cell_type": "code",
      "source": "df_log['Time_Logon'] = pd.to_datetime(df_log['Time_Logon'])",
      "execution_count": null,
      "outputs": []
    },
    {
      "metadata": {
        "trusted": true
      },
      "cell_type": "code",
      "source": "df_log.head()",
      "execution_count": null,
      "outputs": []
    },
    {
      "metadata": {
        "trusted": true
      },
      "cell_type": "code",
      "source": "df_log.dtypes",
      "execution_count": null,
      "outputs": []
    },
    {
      "metadata": {
        "trusted": true
      },
      "cell_type": "code",
      "source": "",
      "execution_count": null,
      "outputs": []
    },
    {
      "metadata": {},
      "cell_type": "markdown",
      "source": "# <span style=\"color:blue\">B4. After-hour System Access</span>"
    },
    {
      "metadata": {},
      "cell_type": "markdown",
      "source": "<i><b> <font size=\"4\">Let's first define a function that can determine whether a specific date is a business day or not.</font> </b></i>"
    },
    {
      "metadata": {
        "trusted": true
      },
      "cell_type": "code",
      "source": "def check_bizday(date):\n    \"\"\"\n    This function classify dates into business days and non-business days.\n    \"\"\"\n    return bool(len(pd.bdate_range(date, date)))",
      "execution_count": null,
      "outputs": []
    },
    {
      "metadata": {
        "trusted": true
      },
      "cell_type": "code",
      "source": "",
      "execution_count": null,
      "outputs": []
    },
    {
      "metadata": {},
      "cell_type": "markdown",
      "source": "<i><b> <font size=\"4\">Now, we apply the function to our given data.</font> </b></i>"
    },
    {
      "metadata": {
        "trusted": true
      },
      "cell_type": "code",
      "source": "df_log['bizday'] = df_log['Time_Logon'].progress_apply(check_bizday)",
      "execution_count": null,
      "outputs": []
    },
    {
      "metadata": {},
      "cell_type": "markdown",
      "source": "<i><b> <font size=\"4\">Wow, that was super fast. </font> </b></i>"
    },
    {
      "metadata": {
        "trusted": true
      },
      "cell_type": "code",
      "source": "",
      "execution_count": null,
      "outputs": []
    },
    {
      "metadata": {},
      "cell_type": "markdown",
      "source": "<i><b> <font size=\"4\">Now, let's extract the hour when the employee accessed the system. </font> </b></i>"
    },
    {
      "metadata": {
        "trusted": true
      },
      "cell_type": "code",
      "source": "df_log['hour'] =df_log['Time_Logon'].dt.hour",
      "execution_count": null,
      "outputs": []
    },
    {
      "metadata": {
        "trusted": true
      },
      "cell_type": "code",
      "source": "",
      "execution_count": null,
      "outputs": []
    },
    {
      "metadata": {},
      "cell_type": "markdown",
      "source": "<i><b> <font size=\"4\">We make two tables for each business day access and non-business day access. </font> </b></i>"
    },
    {
      "metadata": {
        "trusted": true
      },
      "cell_type": "code",
      "source": "df_log_biz = df_log.loc[df_log['bizday']==True]\ndf_log_nonbiz = df_log.loc[df_log['bizday']==False]",
      "execution_count": null,
      "outputs": []
    },
    {
      "metadata": {
        "trusted": true
      },
      "cell_type": "code",
      "source": "",
      "execution_count": null,
      "outputs": []
    },
    {
      "metadata": {},
      "cell_type": "markdown",
      "source": "<i><b> <font size=\"4\">Also, we count the frequency of after-hour access. </font> </b></i>"
    },
    {
      "metadata": {
        "trusted": true
      },
      "cell_type": "code",
      "source": "df_log_biz_hour = df_log_biz.groupby(['hour']).count()[['Time_Logon']].reset_index()\ndf_log_nonbiz_hour = df_log_nonbiz.groupby(['hour']).count()[['Time_Logon']].reset_index()",
      "execution_count": null,
      "outputs": []
    },
    {
      "metadata": {
        "trusted": true
      },
      "cell_type": "code",
      "source": "",
      "execution_count": null,
      "outputs": []
    },
    {
      "metadata": {},
      "cell_type": "markdown",
      "source": "<i><b> <font size=\"4\"> Let's visualize the result. </font> </b></i>"
    },
    {
      "metadata": {},
      "cell_type": "markdown",
      "source": "<i><font size=\"3\"> When the employee accessed the system? </font></i>"
    },
    {
      "metadata": {
        "trusted": true
      },
      "cell_type": "code",
      "source": "sns.barplot(x=\"hour\", y=\"Time_Logon\", data=df_log_biz_hour)",
      "execution_count": null,
      "outputs": []
    },
    {
      "metadata": {
        "trusted": true
      },
      "cell_type": "code",
      "source": "sns.barplot(x=\"hour\", y=\"Time_Logon\", data=df_log_nonbiz_hour)",
      "execution_count": null,
      "outputs": []
    },
    {
      "metadata": {
        "trusted": true
      },
      "cell_type": "code",
      "source": "",
      "execution_count": null,
      "outputs": []
    },
    {
      "metadata": {},
      "cell_type": "markdown",
      "source": "<i><font size=\"3\"> How often do they make after-hour access? </font></i>"
    },
    {
      "metadata": {
        "trusted": true
      },
      "cell_type": "code",
      "source": "user_count_biz = df_log_biz.groupby(['Employee_number']).count()[['Time_Logon']]\nuser_count_nonbiz = df_log_nonbiz.groupby(['Employee_number']).count()[['Time_Logon']]",
      "execution_count": null,
      "outputs": []
    },
    {
      "metadata": {
        "trusted": true
      },
      "cell_type": "code",
      "source": "sns.countplot(x=\"Time_Logon\",data=user_count_biz)",
      "execution_count": null,
      "outputs": []
    },
    {
      "metadata": {
        "trusted": true
      },
      "cell_type": "code",
      "source": "sns.countplot(x=\"Time_Logon\",data=user_count_nonbiz)",
      "execution_count": null,
      "outputs": []
    },
    {
      "metadata": {
        "trusted": true
      },
      "cell_type": "code",
      "source": "",
      "execution_count": null,
      "outputs": []
    },
    {
      "metadata": {},
      "cell_type": "markdown",
      "source": "<i><b> <font size=\"4\"> Let's look on the employees who access the system during the after-hour for the first time </font> </b></i>"
    },
    {
      "metadata": {
        "trusted": true
      },
      "cell_type": "code",
      "source": "suspicious_list = user_count_biz.loc[user_count_biz['Time_Logon']==1].index",
      "execution_count": null,
      "outputs": []
    },
    {
      "metadata": {
        "trusted": true
      },
      "cell_type": "code",
      "source": "pd.DataFrame(suspicious_list).head()",
      "execution_count": null,
      "outputs": []
    },
    {
      "metadata": {
        "trusted": true
      },
      "cell_type": "code",
      "source": "suspicious_list",
      "execution_count": null,
      "outputs": []
    },
    {
      "metadata": {
        "trusted": true
      },
      "cell_type": "code",
      "source": "",
      "execution_count": null,
      "outputs": []
    },
    {
      "metadata": {},
      "cell_type": "markdown",
      "source": "# <span style=\"color:blue\"> B5. Device Access </span>"
    },
    {
      "metadata": {},
      "cell_type": "markdown",
      "source": "<i><b> <font size=\"4\"> Deeper look on the suspicious employees. We check whether they have inserted external devices to transfer data. </font> </b></i>"
    },
    {
      "metadata": {
        "trusted": true
      },
      "cell_type": "code",
      "source": "df_suspicious = df_log_biz.loc[df_log_biz['Employee_number'].isin(suspicious_list)].dropna().reset_index(drop=True)",
      "execution_count": null,
      "outputs": []
    },
    {
      "metadata": {
        "trusted": true
      },
      "cell_type": "code",
      "source": "df_table = df_suspicious[['Employee_name','History_Web']]",
      "execution_count": null,
      "outputs": []
    },
    {
      "metadata": {
        "trusted": true
      },
      "cell_type": "code",
      "source": "df_table['History_Web'] = [i.split(',')[0] for i in df_table['History_Web']]",
      "execution_count": null,
      "outputs": []
    },
    {
      "metadata": {
        "trusted": true
      },
      "cell_type": "code",
      "source": "df_table",
      "execution_count": null,
      "outputs": []
    }
  ],
  "metadata": {
    "kernelspec": {
      "name": "python3",
      "display_name": "Python 3",
      "language": "python"
    },
    "language_info": {
      "mimetype": "text/x-python",
      "nbconvert_exporter": "python",
      "name": "python",
      "file_extension": ".py",
      "version": "3.5.4",
      "pygments_lexer": "ipython3",
      "codemirror_mode": {
        "version": 3,
        "name": "ipython"
      }
    }
  },
  "nbformat": 4,
  "nbformat_minor": 4
}